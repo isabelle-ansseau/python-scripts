{
 "cells": [
  {
   "cell_type": "code",
   "execution_count": 1,
   "metadata": {},
   "outputs": [
    {
     "name": "stdout",
     "output_type": "stream",
     "text": [
      "Populating the interactive namespace from numpy and matplotlib\n"
     ]
    }
   ],
   "source": [
    "import serial\n",
    "import time\n",
    "%pylab inline\n",
    "import matplotlib.pyplot as plt\n",
    "import matplotlib.image as mpimg"
   ]
  },
  {
   "cell_type": "code",
   "execution_count": 2,
   "metadata": {},
   "outputs": [],
   "source": [
    "ser = serial.Serial()"
   ]
  },
  {
   "cell_type": "code",
   "execution_count": 3,
   "metadata": {},
   "outputs": [
    {
     "name": "stdout",
     "output_type": "stream",
     "text": [
      "COM3\n",
      "Serial<id=0x38eae30, open=False>(port='COM3', baudrate=38400, bytesize=8, parity='E', stopbits=1, timeout=2, xonxoff=False, rtscts=False, dsrdtr=False)\n"
     ]
    },
    {
     "data": {
      "text/plain": [
       "True"
      ]
     },
     "execution_count": 3,
     "metadata": {},
     "output_type": "execute_result"
    }
   ],
   "source": [
    "ser.baudrate = 38400 \n",
    "ser.port = 'COM3' \n",
    "ser.parity=serial.PARITY_EVEN\n",
    "ser.timeout=2\n",
    "print ser.name\n",
    "print ser\n",
    "ser.open()\n",
    "ser.is_open"
   ]
  },
  {
   "cell_type": "code",
   "execution_count": 5,
   "metadata": {},
   "outputs": [],
   "source": [
    "from C1120402 import *"
   ]
  },
  {
   "cell_type": "code",
   "execution_count": 6,
   "metadata": {},
   "outputs": [],
   "source": [
    "def send_command(Command, param = None) : \n",
    "    \"\"\"send the Command (string) to the module, and return the answer.\n",
    "    See upper for examples of the commands\"\"\"\n",
    "    #get the checksum and the command line\n",
    "    STX = 0x02\n",
    "    ETX = 0x03\n",
    "    CR = 0x0D\n",
    "    Check_sum = check_sum(Command, param)\n",
    "    if param : \n",
    "        command_line = chr(STX)+Command+str(param)+chr(ETX)+str(Check_sum)+'\\r'\n",
    "    else :\n",
    "        command_line = chr(STX)+Command+chr(ETX)+str(Check_sum)+'\\r'        \n",
    "    command_line=command_line.upper()\n",
    "    print `command_line`\n",
    "    #Send the command_line to the module\n",
    "    ser.write(command_line)\n",
    "    ser.flush()\n",
    "    out = ''\n",
    "    # let's wait one second before reading output (let's give device time to answer)\n",
    "    if Command != 'HRE':\n",
    "        time.sleep(0.5)\n",
    "    else :\n",
    "        time.sleep(15)\n",
    "    while ser.inWaiting() > 0:\n",
    "        out += ser.read(1)\n",
    "    if check_the_sum(out) :\n",
    "        return out\n",
    "    else :\n",
    "        print \"Check SUM error ! WARNING !\"\n",
    "        return out"
   ]
  },
  {
   "cell_type": "code",
   "execution_count": 7,
   "metadata": {},
   "outputs": [],
   "source": [
    "#Liste des commandes possible : \n",
    "\n",
    "param = None\n",
    "# Temperature correction factor setting\n",
    "#Command = \"HST\"\n",
    "#vocal_temperature_correction()\n",
    "\n",
    "# Temperature correction factor read\n",
    "#Command = \"HRT\"\n",
    "\n",
    "# Get the monitor information and status\n",
    "Command = \"HPO\"\n",
    "\n",
    "# Get status,\n",
    "#Command = \"HGS\"\n",
    "\n",
    "# Get output voltage\n",
    "#Command = \"HGV\"\n",
    "\n",
    "# Get output current\n",
    "#Command = \"HGC\"\n",
    "\n",
    "# Get MPPC temperature\n",
    "#Command = \"HGT\"\n",
    "\n",
    "# Get firmware information\n",
    "#Command = \"HFI\"\n",
    "\n",
    "# Get serial number\n",
    "#Command = \"HGN\"\n",
    "\n",
    "# High voltage output OFF\n",
    "#Command = \"HOF\"\n",
    "\n",
    "# High voltage output ON\n",
    "#Command = \"HON\"\n",
    "\n",
    "# Power Supply reset\n",
    "#Command = \"HRE\"\n",
    "\n",
    "# Switching the temperature compensation mode\n",
    "#Command = \"HCM\"\n",
    "#param = '0'\n",
    "#param = '1'\n",
    "# + un parametre : mode (0 ou 1) : O = Disable, 1 = Enable\n",
    "\n",
    "# Power supply function setting\n",
    "#Command = \"HSC\"\n",
    "#param = HSC_param(1,1)\n",
    "# + un paramètre à ajouter : 4 caracteres en hexadecimal\n",
    "\n",
    "# Power Supply function read\n",
    "#Command = \"HRC\"\n",
    "\n",
    "# Reference voltage temporary setting\n",
    "#Command = \"HBV\"\n",
    "# + un paramètre à ajouter : 4 caracteres en hexadecimal"
   ]
  },
  {
   "cell_type": "code",
   "execution_count": 31,
   "metadata": {},
   "outputs": [
    {
     "name": "stdout",
     "output_type": "stream",
     "text": [
      "'\\x02HST00000000000000000227B7D7\\x03B3\\r'\n",
      "'\\x02hst\\x0354\\r'\n",
      "hst\n"
     ]
    }
   ],
   "source": [
    "#vocal_temperature_correction()\n",
    "param = HST_param(DTp1 = 0., DTp2 = 0., DT1 = 0., DT2 = 0., V_b = 1., T_b = 25.)\n",
    "Command = \"HST\"\n",
    "out = send_command(Command, param)\n",
    "print `out`\n",
    "print translate_command_HST_HOF_HON_HRE_HCM_HSC_HBV(out)\n",
    "\n",
    "\n"
   ]
  },
  {
   "cell_type": "code",
   "execution_count": 33,
   "metadata": {},
   "outputs": [
    {
     "name": "stdout",
     "output_type": "stream",
     "text": [
      "'\\x02HRT\\x03F3\\r'\n",
      "'\\x02hrt00000000000000000227B7D7\\x0312\\r'\n",
      "DT'1 : 0.0 mV/�C�\n",
      "DT'2 : 0.0 mV/�C�\n",
      "DT1 : 0.0 mV/�C\n",
      "DT2 : 0.0 mV/�C\n",
      "V_b : 0.998412 V\n",
      "T_b : 25.0015618182 �C\n"
     ]
    }
   ],
   "source": [
    "param = None\n",
    "# Temperature correction factor read\n",
    "Command = \"HRT\"\n",
    "out = send_command(Command, param)\n",
    "print `out`    \n",
    "#vocal_temperature_correction()\n",
    "translate_command_HRT(out)"
   ]
  },
  {
   "cell_type": "code",
   "execution_count": 61,
   "metadata": {},
   "outputs": [
    {
     "name": "stdout",
     "output_type": "stream",
     "text": [
      "'\\x02HRE\\x03E4\\r'\n",
      "'\\x02hre\\x0344\\r'\n",
      "hre\n"
     ]
    }
   ],
   "source": [
    "param = None\n",
    "# Power Supply reset\n",
    "Command = \"HRE\"\n",
    "out = send_command(Command, param)\n",
    "print `out`\n",
    "print translate_command_HST_HOF_HON_HRE_HCM_HSC_HBV(out)\n"
   ]
  },
  {
   "cell_type": "code",
   "execution_count": 16,
   "metadata": {},
   "outputs": [
    {
     "name": "stdout",
     "output_type": "stream",
     "text": [
      "'\\x02HGV\\x03EA\\r'\n",
      "'\\x02hgv0395\\x031B\\r'\n",
      "Voltage : 1.661604 V\n",
      "'\\x02HOF\\x03E2\\r'\n",
      "'\\x02hof\\x0342\\r'\n",
      "hof\n",
      "'\\x02HPO\\x03EC\\r'\n",
      "'\\x02hpo0012000003990000022B\\x033A\\r'\n",
      "\n",
      "10010\n",
      "High voltage output : OFF\n",
      "Overcurrent protection : Working protection\n",
      "Output current value : within specification, value is more than 2mA\n",
      "Temperature sensor connect : Temperature sensor is unconnected or operating temperature departs from -30 to 100 degree.\n",
      "Operating temperature limit : Operating temperature depart from -20 to 60 degree\n",
      "\n",
      "WARNING DOCUMENTATION : Temperature correction : Enable\n",
      "\n",
      "\n",
      "\n",
      "Automatic restoration : not working\n",
      "Voltage suppression : not working\n",
      "Output voltage control : Not working\n",
      "\n",
      "Voltage stability : unstable\n",
      "\n",
      "Voltage : 1.668852 V\n",
      "Current : 0.0 mA\n",
      "Temperature : 186.257481818 �C\n"
     ]
    }
   ],
   "source": [
    "param = None\n",
    "\n",
    "# Get output voltage\n",
    "Command = \"HGV\"\n",
    "out = send_command(Command, param)\n",
    "print `out`\n",
    "translate_command_HGV(out, vocal = False)\n",
    "\n",
    "# High voltage output OFF\n",
    "Command = \"HOF\"\n",
    "out = send_command(Command, param)\n",
    "print `out`\n",
    "print translate_command_HST_HOF_HON_HRE_HCM_HSC_HBV(out)\n",
    "\n",
    "# Get the monitor information and status\n",
    "Command = \"HPO\"\n",
    "out = send_command(Command, param)\n",
    "print `out`\n",
    "translate_command_HPO(out, vocal = False)\n",
    "\n"
   ]
  },
  {
   "cell_type": "code",
   "execution_count": 60,
   "metadata": {},
   "outputs": [
    {
     "name": "stdout",
     "output_type": "stream",
     "text": [
      "'\\x02HPO\\x03EC\\r'\n",
      "Attention, fail in check the sum :\n",
      "out : '\\xc0\\x02hpo0012000003AE004E02A7\\x036B\\r'\n",
      "sum_given : 6B\n",
      "sum_calc : 0x6a1\n",
      "sum_compared : A1\n",
      "Check SUM error ! WARNING !\n",
      "'\\xc0\\x02hpo0012000003AE004E02A7\\x036B\\r'\n",
      "\n"
     ]
    },
    {
     "ename": "ValueError",
     "evalue": "invalid literal for int() with base 16: 'o001'",
     "output_type": "error",
     "traceback": [
      "\u001b[1;31m---------------------------------------------------------------------------\u001b[0m",
      "\u001b[1;31mValueError\u001b[0m                                Traceback (most recent call last)",
      "\u001b[1;32m<ipython-input-60-3cbd8e0a4837>\u001b[0m in \u001b[0;36m<module>\u001b[1;34m()\u001b[0m\n\u001b[0;32m      3\u001b[0m \u001b[0mout\u001b[0m \u001b[1;33m=\u001b[0m \u001b[0msend_command\u001b[0m\u001b[1;33m(\u001b[0m\u001b[0mCommand\u001b[0m\u001b[1;33m,\u001b[0m \u001b[0mparam\u001b[0m\u001b[1;33m)\u001b[0m\u001b[1;33m\u001b[0m\u001b[0m\n\u001b[0;32m      4\u001b[0m \u001b[1;32mprint\u001b[0m \u001b[1;33m`\u001b[0m\u001b[0mout\u001b[0m\u001b[1;33m`\u001b[0m\u001b[1;33m\u001b[0m\u001b[0m\n\u001b[1;32m----> 5\u001b[1;33m \u001b[0mtranslate_command_HPO\u001b[0m\u001b[1;33m(\u001b[0m\u001b[0mout\u001b[0m\u001b[1;33m,\u001b[0m \u001b[0mvocal\u001b[0m \u001b[1;33m=\u001b[0m \u001b[0mFalse\u001b[0m\u001b[1;33m)\u001b[0m\u001b[1;33m\u001b[0m\u001b[0m\n\u001b[0m",
      "\u001b[1;32mC:\\Users\\Administrator\\Documents\\GitHub\\python-scripts\\C1120402.py\u001b[0m in \u001b[0;36mtranslate_command_HPO\u001b[1;34m(output, vocal)\u001b[0m\n\u001b[0;32m    249\u001b[0m     \u001b[0ms_digit\u001b[0m \u001b[1;33m=\u001b[0m \u001b[0moutput\u001b[0m\u001b[1;33m[\u001b[0m\u001b[1;36m4\u001b[0m\u001b[1;33m:\u001b[0m\u001b[1;36m8\u001b[0m\u001b[1;33m]\u001b[0m\u001b[1;33m\u001b[0m\u001b[0m\n\u001b[0;32m    250\u001b[0m     \u001b[1;32mprint\u001b[0m \u001b[1;34m''\u001b[0m\u001b[1;33m\u001b[0m\u001b[0m\n\u001b[1;32m--> 251\u001b[1;33m     \u001b[0mtranslate_status\u001b[0m \u001b[1;33m(\u001b[0m\u001b[0ms_digit\u001b[0m\u001b[1;33m,\u001b[0m \u001b[0mvocal\u001b[0m\u001b[1;33m)\u001b[0m\u001b[1;33m\u001b[0m\u001b[0m\n\u001b[0m\u001b[0;32m    252\u001b[0m     \u001b[0mreserve_digit\u001b[0m \u001b[1;33m=\u001b[0m \u001b[0moutput\u001b[0m\u001b[1;33m[\u001b[0m\u001b[1;36m8\u001b[0m\u001b[1;33m:\u001b[0m\u001b[1;36m12\u001b[0m\u001b[1;33m]\u001b[0m\u001b[1;33m\u001b[0m\u001b[0m\n\u001b[0;32m    253\u001b[0m     \u001b[1;32mprint\u001b[0m \u001b[1;34m''\u001b[0m\u001b[1;33m\u001b[0m\u001b[0m\n",
      "\u001b[1;32mC:\\Users\\Administrator\\Documents\\GitHub\\python-scripts\\C1120402.py\u001b[0m in \u001b[0;36mtranslate_status\u001b[1;34m(s_digit, vocal)\u001b[0m\n\u001b[0;32m    143\u001b[0m     \"\"\"print the different informations in the status\n\u001b[0;32m    144\u001b[0m     Put vocal = True to have more information about each\"\"\"\n\u001b[1;32m--> 145\u001b[1;33m     \u001b[0ms_int\u001b[0m \u001b[1;33m=\u001b[0m \u001b[0mint\u001b[0m\u001b[1;33m(\u001b[0m\u001b[0ms_digit\u001b[0m\u001b[1;33m,\u001b[0m \u001b[1;36m16\u001b[0m\u001b[1;33m)\u001b[0m\u001b[1;33m\u001b[0m\u001b[0m\n\u001b[0m\u001b[0;32m    146\u001b[0m     \u001b[0ms_bin\u001b[0m \u001b[1;33m=\u001b[0m \u001b[0mbin\u001b[0m\u001b[1;33m(\u001b[0m\u001b[0ms_int\u001b[0m\u001b[1;33m)\u001b[0m\u001b[1;33m[\u001b[0m\u001b[1;36m2\u001b[0m\u001b[1;33m:\u001b[0m\u001b[1;33m]\u001b[0m\u001b[1;33m\u001b[0m\u001b[0m\n\u001b[0;32m    147\u001b[0m     \u001b[1;32mprint\u001b[0m \u001b[0ms_bin\u001b[0m\u001b[1;33m\u001b[0m\u001b[0m\n",
      "\u001b[1;31mValueError\u001b[0m: invalid literal for int() with base 16: 'o001'"
     ]
    }
   ],
   "source": [
    "# Get the monitor information and status\n",
    "Command = \"HPO\"\n",
    "out = send_command(Command, param)\n",
    "print `out`\n",
    "translate_command_HPO(out, vocal = False)\n"
   ]
  },
  {
   "cell_type": "code",
   "execution_count": 52,
   "metadata": {},
   "outputs": [
    {
     "name": "stdout",
     "output_type": "stream",
     "text": [
      "'\\x02HGV\\x03EA\\r'\n",
      "'\\x02hgv0393\\x0319\\r'\n",
      "Voltage : 1.65798 V\n",
      "'\\x02HRT\\x03F3\\r'\n",
      "'\\x02hrt00000000000000000227B7D7\\x0312\\r'\n",
      "This function performs temperature compensation \n",
      " of the output voltage using the temperature T[�C] of the external \n",
      " temperature sensor.\n",
      " The output voltage Vo[V] is determined by the following formula. \n",
      " Vo = (DT� * (T � Tb)^2 + DT * (T � Tb)) / 1000 + Vb\n",
      " Where DT[mV/�C] is temperature coefficient, T[�C] is temperature of \n",
      " the external temperature sensor. Temperature coefficient DT[mV/�C] \n",
      " \n",
      "can set to four parameters of high temperature side coefficient  \n",
      " DT�1[mV/�C2], DT1[mV/�C] and primary low temperature side coefficient \n",
      " DT�2[mV/�C2], DT2[mV/�C] (See Fig. 3). If you don�t use this function, \n",
      " please input 0 into DT�1 and DT.\n",
      "\n",
      "When the temperature of the temperature sensor deviates \n",
      " significantly, the temperature compensation function becomes \n",
      " OFF forcibly. In this case, the output voltage will be set \n",
      " to the reference voltage Vb[V].\n"
     ]
    },
    {
     "data": {
      "image/png": "[encoded data removed]",
      "text/plain": [
       "<matplotlib.figure.Figure at 0xec34290>"
      ]
     },
     "metadata": {},
     "output_type": "display_data"
    },
    {
     "name": "stdout",
     "output_type": "stream",
     "text": [
      "DT'1 : 0.0 mV/�C�\n",
      "DT'2 : 0.0 mV/�C�\n",
      "DT1 : 0.0 mV/�C\n",
      "DT2 : 0.0 mV/�C\n",
      "V_b : 0.998412 V\n",
      "T_b : 25.0015618182 �C\n"
     ]
    }
   ],
   "source": [
    "param = None\n",
    "\n",
    "# Get output voltage\n",
    "Command = \"HGV\"\n",
    "out = send_command(Command, param)\n",
    "print `out`\n",
    "translate_command_HGV(out, vocal = False)\n",
    "\n",
    "# Temperature correction factor read\n",
    "Command = \"HRT\"\n",
    "out = send_command(Command, param)\n",
    "print `out`    \n",
    "vocal_temperature_correction()\n",
    "translate_command_HRT(out)\n",
    "\n"
   ]
  },
  {
   "cell_type": "code",
   "execution_count": 63,
   "metadata": {},
   "outputs": [
    {
     "name": "stdout",
     "output_type": "stream",
     "text": [
      "'\\x02HON\\x03EA\\r'\n",
      "'\\x02hon\\x034A\\r'\n",
      "hon\n",
      "'\\x02HGV\\x03EA\\r'\n",
      "'\\x02hgv03A6\\x0324\\r'\n",
      "Voltage : 1.692408 V\n"
     ]
    },
    {
     "data": {
      "text/plain": [
       "1.6924080000000001"
      ]
     },
     "execution_count": 63,
     "metadata": {},
     "output_type": "execute_result"
    }
   ],
   "source": [
    "# High voltage output ON\n",
    "Command = \"HON\"\n",
    "out = send_command(Command, param)\n",
    "print `out`\n",
    "print translate_command_HST_HOF_HON_HRE_HCM_HSC_HBV(out)\n",
    "\n",
    "\n",
    "# Get output voltage\n",
    "Command = \"HGV\"\n",
    "out = send_command(Command, param)\n",
    "print `out`\n",
    "translate_command_HGV(out, vocal = False)"
   ]
  },
  {
   "cell_type": "code",
   "execution_count": 64,
   "metadata": {},
   "outputs": [
    {
     "name": "stdout",
     "output_type": "stream",
     "text": [
      "'\\x02HGV\\x03EA\\r'\n",
      "'\\x02hgv03B5\\x0324\\r'\n",
      "Voltage : 1.719588 V\n"
     ]
    },
    {
     "data": {
      "text/plain": [
       "1.7195880000000001"
      ]
     },
     "execution_count": 64,
     "metadata": {},
     "output_type": "execute_result"
    }
   ],
   "source": [
    "# Get output voltage\n",
    "Command = \"HGV\"\n",
    "out = send_command(Command, param)\n",
    "print `out`\n",
    "translate_command_HGV(out, vocal = False)"
   ]
  },
  {
   "cell_type": "code",
   "execution_count": 57,
   "metadata": {},
   "outputs": [
    {
     "name": "stdout",
     "output_type": "stream",
     "text": [
      "'\\x02HOF\\x03E2\\r'\n",
      "'\\x02hof\\x0342\\r'\n",
      "hof\n",
      "'\\x02HGV\\x03EA\\r'\n",
      "'\\x02hgv03B2\\x0321\\r'\n",
      "Voltage : 1.714152 V\n"
     ]
    },
    {
     "data": {
      "text/plain": [
       "1.7141520000000001"
      ]
     },
     "execution_count": 57,
     "metadata": {},
     "output_type": "execute_result"
    }
   ],
   "source": [
    "# High voltage output OFF\n",
    "Command = \"HOF\"\n",
    "out = send_command(Command, param)\n",
    "print `out`\n",
    "print translate_command_HST_HOF_HON_HRE_HCM_HSC_HBV(out)\n",
    "\n",
    "\n",
    "# Get output voltage\n",
    "Command = \"HGV\"\n",
    "out = send_command(Command, param)\n",
    "print `out`\n",
    "translate_command_HGV(out, vocal = False)"
   ]
  },
  {
   "cell_type": "code",
   "execution_count": 9,
   "metadata": {},
   "outputs": [
    {
     "name": "stdout",
     "output_type": "stream",
     "text": [
      "'\\x02HPO\\x03EC\\r'\n",
      "0x556L\n",
      "56\n",
      "'\\x02hpo0012000003F400570E36\\x0356\\r'\n",
      "\n",
      "10010\n",
      "High voltage output : OFF\n",
      "Overcurrent protection : Working protection\n",
      "Output current value : within specification, value is more than 2mA\n",
      "Temperature sensor connect : Temperature sensor is unconnected or operating temperature departs from -30 to 100 degree.\n",
      "Operating temperature limit : Operating temperature depart from -20 to 60 degree\n",
      "\n",
      "WARNING DOCUMENTATION : Temperature correction : Enable\n",
      "\n",
      "\n",
      "\n",
      "Automatic restoration : not working\n",
      "Voltage suppression : not working\n",
      "Output voltage control : Not working\n",
      "\n",
      "Voltage stability : unstable\n",
      "\n",
      "Voltage : 1.833744 V\n",
      "Current : 0.451878 mA\n",
      "Temperature : 175.56788 °C\n"
     ]
    }
   ],
   "source": [
    "out = send_command(Command, param)\n",
    "print `out`\n",
    "    \n",
    "#vocal_temperature_correction()\n",
    "#translate_command_HRT(out)\n",
    "\n",
    "translate_command_HPO(out, vocal = False)\n",
    "#translate_command_HFI(out)\n",
    "#translate_command_HGN(out)\n",
    "#translate_command_HST_HOF_HON_HRE_HCM_HSC_HBV(out)\n",
    "#translate_command_HRC (out)\n"
   ]
  },
  {
   "cell_type": "code",
   "execution_count": 8,
   "metadata": {},
   "outputs": [],
   "source": [
    "ser.close()\n"
   ]
  },
  {
   "cell_type": "code",
   "execution_count": null,
   "metadata": {},
   "outputs": [],
   "source": []
  },
  {
   "cell_type": "code",
   "execution_count": null,
   "metadata": {},
   "outputs": [],
   "source": []
  },
  {
   "cell_type": "code",
   "execution_count": null,
   "metadata": {},
   "outputs": [],
   "source": []
  },
  {
   "cell_type": "code",
   "execution_count": null,
   "metadata": {},
   "outputs": [],
   "source": []
  },
  {
   "cell_type": "code",
   "execution_count": null,
   "metadata": {},
   "outputs": [],
   "source": []
  },
  {
   "cell_type": "code",
   "execution_count": 4,
   "metadata": {},
   "outputs": [],
   "source": [
    "def HSC_param (overcurrent_protection_function, output_voltage_control_function) :\n",
    "    \"\"\"take 2 parameters, int 0 or 1, and return the 4 hex digit for the HSC function \n",
    "        6-1. Overcurrent protection function\n",
    "    This is the condition of overcurrent protection function.\n",
    "    0: Shut down function\n",
    "    1: Automatic restoration function\n",
    "        6-2. Output voltage control function\n",
    "    This is the condition of output voltage control function.\n",
    "    0: Disable\n",
    "    1: Enable\"\"\"\n",
    "    if overcurrent_protection_function != 0 and overcurrent_protection_function != 1 :\n",
    "        return 'value error'\n",
    "    if output_voltage_control_function != 0 and output_voltage_control_function != 1 :\n",
    "        return 'value error'\n",
    "    #was binary. translation in integer:\n",
    "    y = output_voltage_control_function + 2*overcurrent_protection_function\n",
    "    return '{0:04X}'.format(y)\n",
    "\n",
    "def HST_param(DTp1 = 0., DTp2 = 0., DT1 = 0., DT2 = 0., V_b = 40., T_b = 25.) :\n",
    "    \"\"\"Take the values of the temperature correction factor, \n",
    "    and translate it in hexadecimal to be sent to the power supply\n",
    "    the units are : \n",
    "    DT’1[mV/°C2], DT’2[mV/°C2], DT1[mV/°C], DT2[mV/°C], V_b[V], T_b[°C]\n",
    "    For more information about these quantities, vocal_temperature_correction() \n",
    "    \"\"\"\n",
    "    Dtp1 = int(DTp1/(1.507e-3))\n",
    "    Dtp2 =  int(DTp2/(1.507e-3))\n",
    "    Dt1 = int(DT1/(5.225e-2))\n",
    "    Dt2 = int(DT2/(5.225e-2))\n",
    "    v_b = int(V_b/(1.812e-3))\n",
    "    t_b = int((T_b*-5.5e-3+1.035)/(1.907e-5))\n",
    "    return \"{0:04X}{1:04X}{2:04X}{3:04X}{4:04X}{5:04X}\".format(Dtp1,Dtp2,Dt1,Dt2,v_b,t_b)"
   ]
  },
  {
   "cell_type": "code",
   "execution_count": 5,
   "metadata": {},
   "outputs": [],
   "source": [
    "#The level1 command : take the digits (not the output, just the digits), and translate in english\n",
    "\n",
    "def translate_temperature(t_digit):\n",
    "    \"\"\"Take the 4 digits string sent by the module,\n",
    "    and return a float : the temperature, in Celcius\"\"\"\n",
    "    t = int(t_digit, 16)\n",
    "    T = (t*1.907e-5 - 1.035)/(-5.5e-3)\n",
    "    return T\n",
    "\n",
    "def test_translate_temperature():\n",
    "    \"\"\"For one input value, test if the output of the\n",
    "    translate temperature is still the same\"\"\"\n",
    "    T = translate_temperature('B701')\n",
    "    if T < 25.743 or T > 25.744 :\n",
    "        return 'FAIL FAIL FAIL IN TEMPERATURE'\n",
    "    \n",
    "def translate_output_voltage (v_digit):\n",
    "    \"\"\"Take the 4 digits string sent by the module,\n",
    "    and return a float : the output voltage, in Volt\"\"\"\n",
    "    v = int (v_digit, 16)\n",
    "    V = v*1.812e-3\n",
    "    return V\n",
    "\n",
    "def test_translate_output_voltage():\n",
    "    \"\"\"For one input value, test if the output of the \n",
    "    output_voltage is still the same\"\"\"\n",
    "    V = translate_output_voltage('9B38')\n",
    "    if V < 72.001 or V>72.002:\n",
    "        return 'FAIL FAIL FAIL IN OUTPUT_VOLTAGE'\n",
    "\n",
    "def translate_output_current (i_digit):\n",
    "    \"\"\"Take the 4 digits string sent by the module,\n",
    "    and return a float : the output current, in mA\"\"\"\n",
    "    i = int (i_digit, 16)\n",
    "    I = i*5.194e-3\n",
    "    return I\n",
    "\n",
    "def test_translate_output_current():\n",
    "    \"\"\"For ine input value, test if the output of the \n",
    "    output_current is still the same\"\"\"\n",
    "    I = translate_output_current('0014')\n",
    "    if I < 0.103 or I>0.104:\n",
    "        return 'FAIL FAIL FAIL IN OUTPUT_CURRENT'    \n",
    "\n",
    "def translation_Dt_prime (Dtp_digit) :\n",
    "    \"\"\"Take the 4 digits string sent by the module,\n",
    "    and return a float : the coef DT', in mV/°C²\"\"\"\n",
    "    Dtp = int(Dtp_digit, 16)\n",
    "    DTp = Dtp*1.507e-3\n",
    "    return DTp\n",
    "\n",
    "def translation_Dt(Dt_digit):\n",
    "    \"\"\"Take the 4 digits string sent by the module,\n",
    "    and return a float : the coef DT, in mV/°C\"\"\"\n",
    "    Dt = int(Dt_digit, 16)\n",
    "    DT = Dt*5.225e-2\n",
    "    return DT\n",
    "    \n",
    "#Dictionary about status\n",
    "\n",
    "status = {1:('High voltage output : OFF', 'High voltage output : ON'),\n",
    "          2:('Overcurrent protection : Not working','Overcurrent protection : Working protection'),\n",
    "          3:('Output current value : within specification, value is more than 2mA','Output current value : Outside specification, value is less than 2mA'),\n",
    "          4:('Temperature sensor connect : Temperature sensor is unconnected or operating temperature departs from -30 to 100 degree.'\n",
    ",'Temperature sensor connect : Temperature sensor is connected and operating temperature is  -30 to 100 degree'\n",
    "),\n",
    "          5:('Operating temperature limit : Operating temperature is -20 to 60 degree','Operating temperature limit : Operating temperature depart from -20 to 60 degree'),\n",
    "          6:('',''),\n",
    "          7:('WARNING DOCUMENTATION : Temperature correction : Enable','WARNING DOCUMENTATION : Temperature correction : Disable'),\n",
    "          8:('',''),\n",
    "          9:('',''),\n",
    "          10:('',''),\n",
    "          11:('Automatic restoration : not working','Automatic restoration : working'),\n",
    "          12:('Voltage suppression : not working','Voltage suppression : not working. When over current protection is running'),\n",
    "          13:('Output voltage control : Not working','Output voltage control : During voltage control'),\n",
    "          14:('',''),\n",
    "          15:('Voltage stability : unstable','Voltage stability : stable'),\n",
    "          16:('',''),\n",
    "         }\n",
    "\n",
    "status_vocal = {1:\"When not using the output voltage ON/OFF control function, high voltage is output immediately after the power is turned on.\",\n",
    "                2:\"The threshold of the default is 3mA. When current load of 3mA exceeded more than 4 seconds, the output voltage becomes 0V. When you want to output the high voltage again, please send a reset command or reboot the C11204-02.\"\n",
    ",\n",
    "                3:\"\",\n",
    "                4:\"WARNING DOCUMENTATION : Opposite at an other part of the documentation. If temperature departs from the operating temperature limit greatly, the temperature compensation becomes OFF forcibly.\"\n",
    ",\n",
    "                5:\"If temperature departs from the operating temperature limit greatly, the temperature compensation becomes OFF forcibly.\"\n",
    ",\n",
    "                6:\"\",\n",
    "                7:'WARNING DOCUMENTATION : In the case of 0, output voltage is determined by each setting parameter and value of the temperature sensor. In the case of 1, it is decided only by a reference voltage. If you want to switch the mode, please refer to the \"4.13 Switching the temperature compensation mode \" in this document.',\n",
    "                8:\"\",\n",
    "                9:\"\",\n",
    "                10:\"\",\n",
    "                11:\"\",\n",
    "                12:\"In the case of 1, over current protection is set automatic restoration. And when over current protection is running and voltage gradually rises.\",\n",
    "                13:\"\",\n",
    "                14:\"\",\n",
    "                15:\"\",\n",
    "                16:\"\",\n",
    "               }    \n",
    "    \n",
    "def translate_status(s_digit, vocal = False):\n",
    "    \"\"\"print the different informations in the status\n",
    "    Put vocal = True to have more information about each\"\"\"\n",
    "    s_int = int(s_digit, 16)\n",
    "    s_bin = bin(s_int)[2:]\n",
    "    print s_bin\n",
    "    #First, add '0's until the len of s_bin is 16\n",
    "    while len(s_bin) < 16 : \n",
    "        s_bin = '0'+s_bin\n",
    "    #I will look at each information one by one\n",
    "    for i in range(1, 16):\n",
    "        if vocal : \n",
    "            print status_vocal[i]\n",
    "        print status[i][int(s_bin[-i])] \n",
    "        \n",
    "\n",
    "def check_the_sum(out) :\n",
    "    \"\"\"Check is the sum is good. Return boolean\"\"\"\n",
    "    sum_given = out[-3:-1]\n",
    "    numbers = `out[:-3]`[5:-5]\n",
    "    sum_calc = hex(sum([ord(x) for x in numbers])+int(0x02)+int(0x03))\n",
    "    if (str(sum_calc[-3:-1])).upper() == str(sum_given) :\n",
    "        return True\n",
    "    else : \n",
    "        print \"Attention, fail in checksum :\"\n",
    "        print \"out : \" +`out`\n",
    "        print \"sum_given : \"+ sum_given\n",
    "        print \"sum_calc : \"+str(sum_calc)\n",
    "        print \"sum_compared : \"+(str(sum_calc[-3:-1])).upper()\n",
    "        return False\n",
    "    \n",
    "def check_sum(Command, param = None):\n",
    "    \"\"\"Calculate the check sum\"\"\"\n",
    "    STX = 0x02\n",
    "    ETX = 0x03\n",
    "    if param : \n",
    "        Check_sum = hex(int(STX)+sum([ord(x) for x in Command])+\n",
    "                        sum([ord(x) for x in param])+int(ETX))\n",
    "    else : \n",
    "        Check_sum = hex(int(STX)+sum([ord(x) for x in Command])+int(ETX))\n",
    "    CR = 0x0D\n",
    "    return Check_sum[-3:-1]\n",
    "        \n",
    "    \n",
    "test_translate_temperature()\n",
    "test_translate_output_voltage()\n",
    "test_translate_output_current()\n",
    "\n",
    "#translate_status('4049', vocal = True)\n",
    "\n",
    "def test_check_sum():\n",
    "    if check_sum('HPO') != 'ec' :\n",
    "        print check_sum('HPO')\n",
    "        print 'FAIL FAIL FAIL IN CHECK SUM'\n",
    "    if not check_the_sum('\\x02hxx0004\\x0321\\r') :\n",
    "        print 'FAIL FAIL FAIL IN CHECK THE SUM'\n",
    "        \n",
    "test_check_sum()"
   ]
  },
  {
   "cell_type": "code",
   "execution_count": 14,
   "metadata": {},
   "outputs": [],
   "source": [
    "#the level2 functions : take the output, and return translation in english, using level1 function\n",
    "\n",
    "def send_command(Command, param = None) : \n",
    "    \"\"\"send the Command (string) to the module, and return the answer.\n",
    "    See upper for examples of the commands\"\"\"\n",
    "    #get the checksum and the command line\n",
    "    STX = 0x02\n",
    "    ETX = 0x03\n",
    "    CR = 0x0D\n",
    "    Check_sum = check_sum(Command, param)\n",
    "    if param : \n",
    "        command_line = chr(STX)+Command+str(param)+chr(ETX)+str(Check_sum)+'\\r'\n",
    "    else :\n",
    "        command_line = chr(STX)+Command+chr(ETX)+str(Check_sum)+'\\r'        \n",
    "    command_line=command_line.upper()\n",
    "    print `command_line`\n",
    "    #Send the command_line to the module\n",
    "    ser.write(command_line)\n",
    "    ser.flush()\n",
    "    out = ''\n",
    "    # let's wait one second before reading output (let's give device time to answer)\n",
    "    if Command != 'HRE':\n",
    "        time.sleep(0.5)\n",
    "    else :\n",
    "        time.sleep(15)\n",
    "    while ser.inWaiting() > 0:\n",
    "        out += ser.read(1)\n",
    "    if check_the_sum(out) :\n",
    "        return out\n",
    "    else :\n",
    "        print \"Check SUM error ! WARNING !\"\n",
    "        return out\n",
    "\n",
    "def translate_command_HRT(output, vocal = False):\n",
    "    \"\"\"Take the return of the HRT command, and print every information\"\"\"\n",
    "    if output[1:4] == 'hxx' :\n",
    "        return translate_command_error_hxx(output, vocal)\n",
    "    Dtp1 = output[4:8]\n",
    "    print \"DT'1 : \"+str(translation_Dt_prime (Dtp1))+\" mV/°C²\"\n",
    "    Dtp2 = output[8:12]\n",
    "    print \"DT'2 : \"+str(translation_Dt_prime (Dtp2))+\" mV/°C²\"\n",
    "    Dt1 = output[12:16]\n",
    "    print \"DT1 : \"+str(translation_Dt(Dt1))+\" mV/°C\"\n",
    "    Dt2 = output[16:20]\n",
    "    print \"DT2 : \"+str(translation_Dt(Dt2))+\" mV/°C\"  \n",
    "    v_b = output[20:24]\n",
    "    print \"V_b : \"+str(translate_output_voltage (v_b))+\" V\"\n",
    "    t_b = output[24:28]\n",
    "    print \"T_b : \"+str(translate_temperature(t_b))+\" °C\"\n",
    "    if vocal :\n",
    "        vocal_temperature_correction()\n",
    "    \n",
    "def vocal_temperature_correction():\n",
    "    print \"This function performs temperature compensation \\n of the output voltage using the temperature T[°C] of the external \\n temperature sensor.\\n The output voltage Vo[V] is determined by the following formula. \\n Vo = (DT’ * (T – Tb)^2 + DT * (T – Tb)) / 1000 + Vb\\n Where DT[mV/°C] is temperature coefficient, T[°C] is temperature of \\n the external temperature sensor. Temperature coefficient DT[mV/°C] \\n \"\n",
    "    print \"can set to four parameters of high temperature side coefficient  \\n DT’1[mV/°C2], DT1[mV/°C] and primary low temperature side coefficient \\n DT’2[mV/°C2], DT2[mV/°C] (See Fig. 3). If you don’t use this function, \\n please input 0 into DT’1 and DT.\\n\"\n",
    "    print \"When the temperature of the temperature sensor deviates \\n significantly, the temperature compensation function becomes \\n OFF forcibly. In this case, the output voltage will be set \\n to the reference voltage Vb[V].\"\n",
    "    img=mpimg.imread('T_compensation.png')\n",
    "    imgplot = plt.imshow(img)\n",
    "    plt.show()\n",
    "\n",
    "def translate_command_HPO(output, vocal = False) :\n",
    "    \"\"\"Take the return of the HPO command, and print every information\"\"\"\n",
    "    if output[1:4] == 'hxx' :\n",
    "        return translate_command_error_hxx(output, vocal)\n",
    "    s_digit = output[4:8]\n",
    "    print ''\n",
    "    translate_status (s_digit, vocal)\n",
    "    reserve_digit = output[8:12]\n",
    "    print ''\n",
    "    v_digit = output[12:16]\n",
    "    print 'Voltage : '+str(translate_output_voltage(v_digit))+' V'\n",
    "    i_digit = output[16:20]\n",
    "    print 'Current : '+str(translate_output_current(i_digit))+' mA'\n",
    "    t_digit = output[20:24]\n",
    "    print 'Temperature : '+str(translate_temperature(t_digit))+' °C'\n",
    "    \n",
    "\n",
    "def translate_command_HGV (out, vocal = False) :\n",
    "    \"\"\"Take the return of the HGV command, and print the voltage,\n",
    "    with unity. Return also the voltage\"\"\"\n",
    "    if out[1:4] == 'hxx' :\n",
    "        return translate_command_error_hxx(out, vocal)\n",
    "    v_digit = out[4:8]\n",
    "    print 'Voltage : '+str(translate_output_voltage(v_digit))+' V'\n",
    "    return translate_output_voltage(v_digit)\n",
    "    \n",
    "def translate_command_HGT(out, vocal = False) :\n",
    "    \"\"\"Take the return of the HGT command, and print the MPPC \n",
    "    temperature, with unity. Return also the temperature\"\"\"\n",
    "    if out[1:4] == 'hxx' :\n",
    "        return translate_command_error_hxx(out, vocal)\n",
    "    t_digit = out[4:8]\n",
    "    print 'Temperature : '+str(translate_temperature(t_digit))+' °C'\n",
    "    return translate_temperature(t_digit)\n",
    "    \n",
    "def translate_command_HGC(out, vocal = False) :\n",
    "    \"\"\"Take the return of the HGC command, and print the output current,\n",
    "    with unity.    Return also the current\"\"\"\n",
    "    if out[1:4] == 'hxx' :\n",
    "        return translate_command_error_hxx(out, vocal)\n",
    "    i_digit = out[4:8]\n",
    "    print 'Current : '+str(translate_output_current(i_digit))+' mA'\n",
    "    return translate_output_current(i_digit)\n",
    "    \n",
    "def translate_command_HFI(out, vocal = False):\n",
    "    \"\"\"Take the return of the HFI command, and print every information\"\"\"\n",
    "    if out[1:4] == 'hxx' :\n",
    "        return translate_command_error_hxx(out, vocal)\n",
    "    Device_name = out[4:20]\n",
    "    Version = out[20:36]\n",
    "    Build_date = out[36:47]\n",
    "    return Device_name, Version, Build_date\n",
    "\n",
    "def translate_command_HGN(out, vocal = False):\n",
    "    \"\"\"Take the return of the HGN command, and return the serial number\"\"\"\n",
    "    if out[1:4] == 'hxx' :\n",
    "        return translate_command_error_hxx(out, vocal)\n",
    "    serial_number = out[4:20]\n",
    "    return serial_number\n",
    "\n",
    "def translate_command_HST_HOF_HON_HRE_HCM_HSC_HBV(out, vocal = False) :\n",
    "    \"\"\"translate the command with no information answered\"\"\"\n",
    "    response = out[1:4]\n",
    "    if response != 'hxx' :\n",
    "        return response\n",
    "    else :\n",
    "        return translate_command_error_hxx(out)\n",
    "\n",
    "\n",
    "power_supply = {1 : (\"Overcurrent protection : Shutdown\",\"Overcurrent protection : Automatic restoration\"),\n",
    "               2 : (\"Output voltage control : Disable\",\"Output voltage control : Enable\")}\n",
    "power_supply_vocal = {1 : \"This is the condition of overcurrent protection function. \\n 0: Shut down function \\n 1: Automatic restoration function\",\n",
    "                     2 : \"This is the condition of output voltage control function. \\n 0: Disable \\n 1: Enable\"}\n",
    "\n",
    "\n",
    "def translate_command_HRC (out, vocal = False):\n",
    "    \"\"\"Take the return of the HRC command, and \n",
    "    return the value of the power supply function\"\"\"\n",
    "    if out[1:4] == 'hxx' :\n",
    "        return translate_command_error_hxx(out, vocal)\n",
    "    digit = `out`[8:12]\n",
    "    s_int = int(digit, 16)\n",
    "    s_bin = bin(s_int)[2:]\n",
    "    while len(s_bin)<2:\n",
    "        s_bin = '0'+s_bin\n",
    "    #I will look at each information one by one\n",
    "    for i in range(1, 3):\n",
    "        if vocal : \n",
    "            print power_supply_vocal[i]\n",
    "        print power_supply[i][int(s_bin[-i])] \n",
    "    return None\n",
    "\n",
    "\n",
    "def translate_command_error_hxx(out, vocal = False):\n",
    "    \"\"\"take the output of the module (string), check if it's the error_code, \n",
    "    and if yes, return the error description. In vocal, print also the description\"\"\"\n",
    "    response = out[1:4]\n",
    "    if response != 'hxx' :\n",
    "        return response\n",
    "    error_code = int(out[7])\n",
    "    errors = {1:'UART communication error', \n",
    "              2:'Timeout error',\n",
    "              3:'Syntax error', \n",
    "              4:'Checksum error',\n",
    "              5:'Command error',\n",
    "              6:'Parameter error',\n",
    "              7:'Parameter size error'}\n",
    "    error_description = {1:'Parity error, overrun error, framing error. This indicates that an error has occurred either.',\n",
    "                         2:'This indicates that the CR has not been received within 1000ms of receiving the STX. The received packet is discarded.',\n",
    "                         3:'The beginning of the received command is other than STX, which indicates the length of the command or 256byte.',\n",
    "                         4:'This indicates that the checksum does not match',\n",
    "                         5:'This indicates that it is an undefined command',\n",
    "                         6:'This indicates that the codes other than ASCII code(0–F) is in the parameter.',\n",
    "                         7:'This indicates that the data length of the parameter is outside the specified length.',}\n",
    "    if vocal :\n",
    "        print errors[error_code]\n",
    "        print error_description[error_code]\n",
    "    return errors[error_code]"
   ]
  },
  {
   "cell_type": "code",
   "execution_count": null,
   "metadata": {},
   "outputs": [],
   "source": []
  }
 ],
 "metadata": {
  "kernelspec": {
   "display_name": "Python 2",
   "language": "python",
   "name": "python2"
  },
  "language_info": {
   "codemirror_mode": {
    "name": "ipython",
    "version": 2
   },
   "file_extension": ".py",
   "mimetype": "text/x-python",
   "name": "python",
   "nbconvert_exporter": "python",
   "pygments_lexer": "ipython2",
   "version": "2.7.14"
  }
 },
 "nbformat": 4,
 "nbformat_minor": 2
}
